{
  "cells": [
    {
      "cell_type": "markdown",
      "metadata": {
        "id": "9yU9qgzJPj94"
      },
      "source": [
        "Inverting a dictionary"
      ]
    },
    {
      "cell_type": "code",
      "execution_count": null,
      "metadata": {
        "colab": {
          "base_uri": "https://localhost:8080/",
          "height": 35
        },
        "id": "CKD10V7anKL7",
        "outputId": "604e917a-ece7-428d-ad63-867b7426c787"
      },
      "outputs": [],
      "source": [
        "d={'jan':1,'feb':2,'mar':3}\n",
        "invd={}\n",
        "for k in d.keys():\n",
        "  invd[d[k]]=k\n",
        "invd[d['jan']]"
      ]
    },
    {
      "cell_type": "markdown",
      "metadata": {
        "id": "ONCvnQBIugNg"
      },
      "source": [
        "BISECTION SEARCH"
      ]
    },
    {
      "cell_type": "code",
      "execution_count": 9,
      "metadata": {
        "id": "qoBEa3ZgqiXo"
      },
      "outputs": [],
      "source": [
        "import numpy as np\n",
        "n=200\n",
        "arr=np.sort(np.floor(10*n*np.random.rand((n))))\n",
        "tix=139\n",
        "x=arr[tix]\n",
        "tix = -1 if x!=arr[tix] else tix"
      ]
    },
    {
      "cell_type": "code",
      "execution_count": 21,
      "metadata": {
        "colab": {
          "base_uri": "https://localhost:8080/"
        },
        "id": "YucqsBl8q2jE",
        "outputId": "af0813ac-3925-49ea-8a23-fcde0d5ee358"
      },
      "outputs": [
        {
          "name": "stdout",
          "output_type": "stream",
          "text": [
            "0 99 199\n",
            "100 149 199\n",
            "100 124 149\n",
            "125 137 149\n",
            "125 131 137\n",
            "132 134 137\n",
            "135 136 137\n",
            "True index vs Found index: 139 137\n",
            "Values are equal: 1400.0 1400.0\n"
          ]
        }
      ],
      "source": [
        "st=0; en=len(arr)-1; ix=-1\n",
        "while en>st:\n",
        "  mid=int((st+en)/2)\n",
        "  print(st,mid,en)\n",
        "  if x>arr[mid]: st=mid+1\n",
        "  else: en=mid\n",
        "  if x==arr[mid]: ix=mid\n",
        "print('True index vs Found index:',tix,ix)\n",
        "print('Values are equal:', arr[tix],arr[ix])"
      ]
    },
    {
      "cell_type": "markdown",
      "metadata": {
        "id": "6hgI-JNlx_Rc"
      },
      "source": [
        "Root finding via bisection"
      ]
    },
    {
      "cell_type": "code",
      "execution_count": 41,
      "metadata": {
        "colab": {
          "base_uri": "https://localhost:8080/"
        },
        "id": "T164olQOxq6V",
        "outputId": "9a5e72b0-89c4-429f-f6de-50bbb11514bb"
      },
      "outputs": [
        {
          "name": "stdout",
          "output_type": "stream",
          "text": [
            "# of iterations: 38\n"
          ]
        }
      ],
      "source": [
        "import time\n",
        "def f(x):\n",
        "  return x**5+2*x**3+3*x-tgt\n",
        "tgt=3126\n",
        "mid=0\n",
        "sttime=time.time()\n",
        "st=-100; en=100; tol=0.000001\n",
        "num_iter=0\n",
        "while abs(f(mid))>tol:\n",
        "  num_iter+=1\n",
        "  mid=(en+st)/2\n",
        "  #print(st,mid,en)\n",
        "  if f(mid)>0: en=mid\n",
        "  if f(mid)<=0: st=mid\n",
        "entime=time.time()\n",
        "#print('Time:',entime-sttime)\n",
        "print('# of iterations:',num_iter)"
      ]
    },
    {
      "cell_type": "markdown",
      "metadata": {
        "id": "dOkNTCwU0CpI"
      },
      "source": [
        "Newton's method"
      ]
    },
    {
      "cell_type": "code",
      "execution_count": 42,
      "metadata": {
        "colab": {
          "base_uri": "https://localhost:8080/"
        },
        "id": "NLzEGRfE0Ah_",
        "outputId": "2280ef6c-47e5-466a-cd0e-78d0df91f7d7"
      },
      "outputs": [
        {
          "name": "stdout",
          "output_type": "stream",
          "text": [
            "1.1712927516782656e-08\n",
            "# of iterations: 29\n"
          ]
        }
      ],
      "source": [
        "# Example function\n",
        "def f(x):\n",
        "  return x**5+2*x**3+3*x-tgt\n",
        "def fprime(x):\n",
        "  return 5*x**4+6*x**2+3\n",
        "\n",
        "# Newton's method\n",
        "x=0\n",
        "num_iter=0\n",
        "while abs(f(x))>tol:\n",
        "  num_iter+=1\n",
        "  x-=f(x)/fprime(x)\n",
        "print(f(x))\n",
        "print('# of iterations:',num_iter)"
      ]
    },
    {
      "cell_type": "markdown",
      "metadata": {
        "id": "UseQr3mGUD2-"
      },
      "source": [
        "Recursion"
      ]
    },
    {
      "cell_type": "code",
      "execution_count": null,
      "metadata": {
        "colab": {
          "base_uri": "https://localhost:8080/"
        },
        "id": "4t8yevJPUC-s",
        "outputId": "340b9ac0-565b-46f7-9d1e-ef95308fcb2d"
      },
      "outputs": [
        {
          "data": {
            "text/plain": [
              "6"
            ]
          },
          "execution_count": 6,
          "metadata": {},
          "output_type": "execute_result"
        }
      ],
      "source": [
        "def sum_list(l):   # Solution\n",
        "  return (l[0]+sum_list(l[1:]) if len(l)>0 else 0)\n",
        "\n",
        "l=[1,2,3]\n",
        "sum_list(l)"
      ]
    },
    {
      "cell_type": "code",
      "execution_count": null,
      "metadata": {
        "colab": {
          "base_uri": "https://localhost:8080/"
        },
        "id": "O3QBDp7Gbwbu",
        "outputId": "64564cb2-b31d-45f9-c81b-315892f894ba"
      },
      "outputs": [
        {
          "name": "stdout",
          "output_type": "stream",
          "text": [
            "[1, 2, 3, 3, 4, 7, 8]\n"
          ]
        }
      ],
      "source": [
        "def mergesrt(L):\n",
        "  if len(L)<=1: return L\n",
        "  half=int(len(L)/2)\n",
        "  L[:half]=mergesrt(L[:half])\n",
        "  L[half:]=mergesrt(L[half:])\n",
        "  Lcp=L.copy()\n",
        "  ix1=0; ix2=0\n",
        "  for i in range(len(L)):\n",
        "    if ix1<half and (ix2==len(L)-half or Lcp[ix1]<=Lcp[ix2+half]):\n",
        "      L[i]=Lcp[ix1]\n",
        "      ix1+=1\n",
        "    else:\n",
        "      L[i]=Lcp[ix2+half]\n",
        "      ix2+=1\n",
        "  return L\n",
        "  \n",
        "L=[4,3,7,8,2,3,1]\n",
        "print(mergesrt(L))"
      ]
    }
  ],
  "metadata": {
    "colab": {
      "collapsed_sections": [],
      "provenance": []
    },
    "kernelspec": {
      "display_name": "Python 3.7.2 64-bit",
      "language": "python",
      "name": "python3"
    },
    "language_info": {
      "name": "python",
      "version": "3.7.2"
    },
    "vscode": {
      "interpreter": {
        "hash": "aee8b7b246df8f9039afb4144a1f6fd8d2ca17a180786b69acc140d282b71a49"
      }
    }
  },
  "nbformat": 4,
  "nbformat_minor": 0
}
