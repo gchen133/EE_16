{
 "cells": [
  {
   "cell_type": "code",
   "execution_count": 10,
   "metadata": {},
   "outputs": [
    {
     "name": "stdout",
     "output_type": "stream",
     "text": [
      "1331.0\n"
     ]
    }
   ],
   "source": [
    "import math\n",
    "a=11\n",
    "b=3\n",
    "print(math.pow(a,b))"
   ]
  },
  {
   "cell_type": "code",
   "execution_count": 18,
   "metadata": {},
   "outputs": [
    {
     "name": "stdout",
     "output_type": "stream",
     "text": [
      "True True\n"
     ]
    }
   ],
   "source": [
    "a=True\n",
    "b=-1\n",
    "d=0.1\n",
    "c=0.0\n",
    "type(a), type(b), type(c)\n",
    "print(bool(b),bool(d))"
   ]
  },
  {
   "cell_type": "code",
   "execution_count": 30,
   "metadata": {},
   "outputs": [
    {
     "data": {
      "text/plain": [
       "('abcdef', 'abcabcabcabcabc')"
      ]
     },
     "execution_count": 30,
     "metadata": {},
     "output_type": "execute_result"
    }
   ],
   "source": [
    "s='abc'\n",
    "s2=\"def\"\n",
    "s+s2, s*5"
   ]
  },
  {
   "cell_type": "code",
   "execution_count": 37,
   "metadata": {},
   "outputs": [
    {
     "name": "stdout",
     "output_type": "stream",
     "text": [
      "1\n"
     ]
    }
   ],
   "source": [
    "a=3\n",
    "b=1\n",
    "res=0\n",
    "if a<b:\n",
    "    res=a\n",
    "else:\n",
    "    res=b\n",
    "print(res)"
   ]
  },
  {
   "cell_type": "code",
   "execution_count": 43,
   "metadata": {},
   "outputs": [
    {
     "name": "stdout",
     "output_type": "stream",
     "text": [
      "too short\n"
     ]
    }
   ],
   "source": [
    "s=\"vhadfsjkbvaksdfj\"\n",
    "s=\"hjdsvhbsdj\"\n",
    "uplim=10\n",
    "lowlim=5\n",
    "if len(s)>uplim:\n",
    "    print('too long')\n",
    "else:\n",
    "    print('too short')"
   ]
  },
  {
   "cell_type": "code",
   "execution_count": 55,
   "metadata": {},
   "outputs": [
    {
     "name": "stdout",
     "output_type": "stream",
     "text": [
      "-2726880\n"
     ]
    }
   ],
   "source": [
    "num_x=10\n",
    "l=(10,46,78,-76)\n",
    "s=1\n",
    "for i in l:\n",
    "    s*=i\n",
    "print(s)\n"
   ]
  },
  {
   "cell_type": "code",
   "execution_count": 57,
   "metadata": {},
   "outputs": [
    {
     "name": "stdout",
     "output_type": "stream",
     "text": [
      "8\n"
     ]
    }
   ],
   "source": [
    "a0=1\n",
    "a1=1\n",
    "num=5\n",
    "for _ in range(num-1):\n",
    "    tmp=a1\n",
    "    a1=a0+a1\n",
    "    a0=tmp\n",
    "print(a1)"
   ]
  },
  {
   "cell_type": "code",
   "execution_count": 61,
   "metadata": {},
   "outputs": [
    {
     "name": "stdout",
     "output_type": "stream",
     "text": [
      "False\n"
     ]
    }
   ],
   "source": [
    "num=27\n",
    "is_prime=True\n",
    "for i in range(2,num-1):\n",
    "    if num%i==0:\n",
    "        is_prime=False\n",
    "        break\n",
    "print(is_prime)"
   ]
  }
 ],
 "metadata": {
  "kernelspec": {
   "display_name": "Python 3.9.12 ('base')",
   "language": "python",
   "name": "python3"
  },
  "language_info": {
   "codemirror_mode": {
    "name": "ipython",
    "version": 3
   },
   "file_extension": ".py",
   "mimetype": "text/x-python",
   "name": "python",
   "nbconvert_exporter": "python",
   "pygments_lexer": "ipython3",
   "version": "3.9.12"
  },
  "orig_nbformat": 4,
  "vscode": {
   "interpreter": {
    "hash": "418ea9cba9281583f8fa1af18fcc22eba76f2fd78af3e61cad65d13ddd7bb0a7"
   }
  }
 },
 "nbformat": 4,
 "nbformat_minor": 2
}
