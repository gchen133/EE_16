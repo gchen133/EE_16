{
 "cells": [
  {
   "cell_type": "code",
   "execution_count": 23,
   "metadata": {},
   "outputs": [],
   "source": [
    "import numpy as np"
   ]
  },
  {
   "cell_type": "markdown",
   "metadata": {},
   "source": [
    "## Longest common subsequence"
   ]
  },
  {
   "cell_type": "code",
   "execution_count": 34,
   "metadata": {},
   "outputs": [
    {
     "name": "stdout",
     "output_type": "stream",
     "text": [
      "Length of LCS is  4\n"
     ]
    }
   ],
   "source": [
    "def LCS(X, Y, m, n): \n",
    "    if m == 0 or n == 0:\n",
    "        return 0\n",
    "    elif X[m-1] == Y[n-1]:\n",
    "        return 1 + LCS(X, Y, m-1, n-1); \n",
    "    else:\n",
    "        return max(LCS(X, Y, m, n-1), LCS(X, Y, m-1, n)); \n",
    "\n",
    "X = \"AGGTAB\"\n",
    "Y = \"GXTXAYB\"\n",
    "\n",
    "print(\"Length of LCS is \", LCS(X , Y, len(X), len(Y)) )"
   ]
  },
  {
   "cell_type": "markdown",
   "metadata": {},
   "source": [
    "## Longest increasing subsequence\n",
    "### (a) Longest increasing subseq until n"
   ]
  },
  {
   "cell_type": "code",
   "execution_count": 191,
   "metadata": {},
   "outputs": [
    {
     "name": "stdout",
     "output_type": "stream",
     "text": [
      "5\n"
     ]
    }
   ],
   "source": [
    "def LIS_n(arr, n):\n",
    "\n",
    "    if n <= 1:\n",
    "        return n\n",
    "\n",
    "    ends_n = 1\n",
    "    for i in range(1,n):\n",
    "        ends_i = LIS_n(arr, i)\n",
    "        if arr[i-1] < arr[n-1] and ends_i+1 > ends_n:\n",
    "            ends_n = ends_i + 1\n",
    "\n",
    "    return ends_n\n",
    "\n",
    "arr = [10, 22, 9, 33, 21, 50, 41, 60]\n",
    "n = len(arr)\n",
    "print(LIS_n(arr,n))"
   ]
  },
  {
   "cell_type": "markdown",
   "metadata": {},
   "source": [
    "### (b) Fill DP list via longest increasing subseq until n"
   ]
  },
  {
   "cell_type": "code",
   "execution_count": 200,
   "metadata": {},
   "outputs": [
    {
     "name": "stdout",
     "output_type": "stream",
     "text": [
      "3.0\n"
     ]
    },
    {
     "data": {
      "text/plain": [
       "array([-1.,  1.,  2.,  1.,  3.,  4.,  4.,  2.,  3.])"
      ]
     },
     "execution_count": 200,
     "metadata": {},
     "output_type": "execute_result"
    }
   ],
   "source": [
    "def LIS(arr, n, dp):\n",
    "    if dp[n]>=0:\n",
    "        return dp[n]\n",
    "\n",
    "    if n <= 1:\n",
    "        dp[n]=n\n",
    "        return n\n",
    "\n",
    "    dp[n] = 1\n",
    "    for i in range(1,n):\n",
    "        ends_i = LIS(arr, i, dp)\n",
    "        if arr[i-1] < arr[n-1] and ends_i+1 > dp[n]:\n",
    "            dp[n] = ends_i + 1\n",
    "\n",
    "    return dp[n]\n",
    "\n",
    "arr = [10, 22, 9, 33, 21, 50, 41, 60]\n",
    "arr = [10, 22, 9, 33, 50, 41, 20, 30]\n",
    "n = len(arr)\n",
    "dp=-np.ones(n+1)\n",
    "print(LIS(arr,n,dp))\n",
    "dp"
   ]
  }
 ],
 "metadata": {
  "kernelspec": {
   "display_name": "Python 3",
   "language": "python",
   "name": "python3"
  },
  "language_info": {
   "codemirror_mode": {
    "name": "ipython",
    "version": 3
   },
   "file_extension": ".py",
   "mimetype": "text/x-python",
   "name": "python",
   "nbconvert_exporter": "python",
   "pygments_lexer": "ipython3",
   "version": "3.7.2"
  }
 },
 "nbformat": 4,
 "nbformat_minor": 2
}
