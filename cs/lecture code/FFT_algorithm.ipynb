{
 "cells": [
  {
   "cell_type": "code",
   "execution_count": 45,
   "id": "36bb2ec7",
   "metadata": {},
   "outputs": [],
   "source": [
    "import numpy as np\n",
    "import numpy.linalg as npl\n",
    "from numpy.fft import fft,ifft\n",
    "import matplotlib.pyplot as plt"
   ]
  },
  {
   "cell_type": "code",
   "execution_count": 149,
   "id": "60585987",
   "metadata": {},
   "outputs": [
    {
     "name": "stdout",
     "output_type": "stream",
     "text": [
      "Error btwn ours vs truth: 5.846354753949606e-15\n"
     ]
    }
   ],
   "source": [
    "def our_fft(x):\n",
    "    N=len(x)\n",
    "    if N==1:\n",
    "        return x\n",
    "    \n",
    "    N_half = int(N/2)\n",
    "    f_even = our_fft(x[0:N:2])\n",
    "    f_odd = our_fft(x[1:N:2])\n",
    "    f=np.zeros(N).astype('complex')\n",
    "    for ix in range(N_half):\n",
    "        om=np.exp(-1j*2*np.pi*ix/N)\n",
    "        f[ix] = f_even[ix]+om*f_odd[ix]\n",
    "        f[ix+N_half] = f_even[ix]-om*f_odd[ix]\n",
    "    return f\n",
    "\n",
    "N=32\n",
    "x=np.random.randn(N)\n",
    "print('Error btwn ours vs truth:',npl.norm(fft(x)-our_fft(x)))"
   ]
  },
  {
   "cell_type": "code",
   "execution_count": 130,
   "id": "0567105c",
   "metadata": {},
   "outputs": [
    {
     "data": {
      "text/plain": [
       "[<matplotlib.lines.Line2D at 0x118cb2e50>]"
      ]
     },
     "execution_count": 130,
     "metadata": {},
     "output_type": "execute_result"
    },
    {
     "data": {
      "image/png": "[encoded data removed]",
      "text/plain": [
       "<Figure size 640x480 with 1 Axes>"
      ]
     },
     "metadata": {},
     "output_type": "display_data"
    }
   ],
   "source": [
    "plt.plot(fft(x),'s',markersize=9)\n",
    "plt.plot(our_fft(x),'o',markersize=8)"
   ]
  },
  {
   "cell_type": "code",
   "execution_count": 159,
   "id": "a99716f3",
   "metadata": {},
   "outputs": [
    {
     "name": "stdout",
     "output_type": "stream",
     "text": [
      "Error btwn ours vs truth: 1.0654760312050655e-15\n"
     ]
    }
   ],
   "source": [
    "def our_ifft(x):\n",
    "    N=len(x)\n",
    "    if N==1:\n",
    "        return x\n",
    "    \n",
    "    N_half = int(N/2)\n",
    "    f_even = our_ifft(x[0:N:2])\n",
    "    f_odd = our_ifft(x[1:N:2])\n",
    "    f=np.zeros(N).astype('complex')\n",
    "    for ix in range(N_half):\n",
    "        om=np.exp(1j*2*np.pi*ix/N)\n",
    "        f[ix] = f_even[ix]+om*f_odd[ix]\n",
    "        f[ix+N_half] = f_even[ix]-om*f_odd[ix]\n",
    "    return f\n",
    "\n",
    "N=32\n",
    "x=np.random.randn(N)\n",
    "print('Error btwn ours vs truth:',npl.norm(x-our_ifft(our_fft(x))/N))"
   ]
  }
 ],
 "metadata": {
  "kernelspec": {
   "display_name": "Python 3 (ipykernel)",
   "language": "python",
   "name": "python3"
  },
  "language_info": {
   "codemirror_mode": {
    "name": "ipython",
    "version": 3
   },
   "file_extension": ".py",
   "mimetype": "text/x-python",
   "name": "python",
   "nbconvert_exporter": "python",
   "pygments_lexer": "ipython3",
   "version": "3.11.0"
  }
 },
 "nbformat": 4,
 "nbformat_minor": 5
}
