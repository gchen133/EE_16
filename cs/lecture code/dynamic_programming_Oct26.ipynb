{
 "cells": [
  {
   "cell_type": "markdown",
   "metadata": {},
   "source": [
    "## Fibonacci problem"
   ]
  },
  {
   "cell_type": "code",
   "execution_count": 46,
   "metadata": {},
   "outputs": [
    {
     "name": "stdout",
     "output_type": "stream",
     "text": [
      "0.32947611808776855\n"
     ]
    }
   ],
   "source": [
    "import time\n",
    "import numpy as np\n",
    "def fibonacci(n):\n",
    "    if n<=1:\n",
    "        return 1\n",
    "    else:\n",
    "        return fibonacci(n-1)+fibonacci(n-2)\n",
    "\n",
    "n=30\n",
    "st=time.time()\n",
    "fibonacci(n)\n",
    "print(time.time()-st)\n"
   ]
  },
  {
   "cell_type": "code",
   "execution_count": 29,
   "metadata": {},
   "outputs": [
    {
     "name": "stdout",
     "output_type": "stream",
     "text": [
      "0.00010991096496582031\n"
     ]
    }
   ],
   "source": [
    "def fibonacci(n,dp):\n",
    "    if dp[n]!=-1:\n",
    "        return dp[n]\n",
    "    if n<=1:\n",
    "        dp[n]=1\n",
    "    else:\n",
    "        dp[n]=fibonacci(n-1,dp)+fibonacci(n-2,dp)\n",
    "    return dp[n]\n",
    "\n",
    "n=40\n",
    "st=time.time()\n",
    "fibonacci(n,[-1]*(n+1))\n",
    "print(time.time()-st)"
   ]
  },
  {
   "cell_type": "markdown",
   "metadata": {},
   "source": [
    "## Partition problem (top down solution)"
   ]
  },
  {
   "cell_type": "code",
   "execution_count": 51,
   "metadata": {},
   "outputs": [
    {
     "data": {
      "text/plain": [
       "True"
      ]
     },
     "execution_count": 51,
     "metadata": {},
     "output_type": "execute_result"
    }
   ],
   "source": [
    "def is_subset_sum(arr,n,sum,dp):\n",
    "    if sum==0:\n",
    "        return True\n",
    "    if n==0 and sum!=0:\n",
    "        return False\n",
    " \n",
    "    if dp[n][sum]!=-1:\n",
    "        return dp[n][sum]\n",
    "\n",
    "    if arr[n - 1]>sum:\n",
    "        return is_subset_sum(arr, n - 1, sum, dp)\n",
    " \n",
    "    dp[n][sum] = is_subset_sum(arr, n - 1, sum, dp) or is_subset_sum(arr, n - 1, sum - arr[n - 1], dp)\n",
    " \n",
    "    return dp[n][sum]\n",
    "\n",
    "def find_partition(arr):\n",
    "    n=len(arr)\n",
    "    sum = np.sum(arr)\n",
    "    if (sum % 2 != 0):\n",
    "        return False\n",
    "    \n",
    "    # Initialize all -1\n",
    "    dp = [[-1]*(sum+1)]*(n+1)\n",
    "    return is_subset_sum(arr, n, sum // 2, dp)\n",
    " \n",
    "\n",
    "arr = [ 3, 1, 5, 9, 12 ]\n",
    "\n",
    "find_partition(arr)"
   ]
  },
  {
   "cell_type": "markdown",
   "metadata": {},
   "source": [
    "## Knapsack problem (bottom up solution)"
   ]
  },
  {
   "cell_type": "code",
   "execution_count": 45,
   "metadata": {},
   "outputs": [
    {
     "name": "stdout",
     "output_type": "stream",
     "text": [
      "220\n"
     ]
    }
   ],
   "source": [
    "def knapSack(C, W, V, n):\n",
    "    dp = [[0 for x in range(C + 1)] for x in range(n + 1)]\n",
    " \n",
    "    # Build table dp[][] in bottom up manner\n",
    "    for i in range(n + 1):\n",
    "        for w in range(C + 1):\n",
    "            if i == 0 or w == 0:\n",
    "                dp[i][w] = 0\n",
    "            elif W[i-1] <= w:\n",
    "                dp[i][w] = max(V[i-1]+dp[i-1][w-W[i-1]], dp[i-1][w])\n",
    "            else:\n",
    "                dp[i][w] = dp[i-1][w]\n",
    " \n",
    "    return dp[n][C]\n",
    "\n",
    "\n",
    "# Driver code\n",
    "V = [60, 100, 120]#, 100, 100]\n",
    "W = [10, 20, 30]#, 25, 15]\n",
    "C = 50\n",
    "n = len(V)\n",
    "print(knapSack(C, W, V, n))"
   ]
  }
 ],
 "metadata": {
  "kernelspec": {
   "display_name": "Python 3",
   "language": "python",
   "name": "python3"
  },
  "language_info": {
   "codemirror_mode": {
    "name": "ipython",
    "version": 3
   },
   "file_extension": ".py",
   "mimetype": "text/x-python",
   "name": "python",
   "nbconvert_exporter": "python",
   "pygments_lexer": "ipython3",
   "version": "3.7.2"
  }
 },
 "nbformat": 4,
 "nbformat_minor": 2
}
