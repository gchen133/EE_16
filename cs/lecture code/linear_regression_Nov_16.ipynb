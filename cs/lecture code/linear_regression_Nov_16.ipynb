{
 "cells": [
  {
   "cell_type": "code",
   "execution_count": 610,
   "metadata": {},
   "outputs": [],
   "source": [
    "import numpy as np\n",
    "import numpy.linalg as npl\n",
    "import matplotlib.pyplot as plt\n",
    "ACC={}"
   ]
  },
  {
   "cell_type": "markdown",
   "metadata": {},
   "source": [
    "## L2 norm of a vector in Python\n",
    "\n",
    "- L2 norm is defined as $||x||_2 = \\sqrt{\\sum_{i=1}^d x_i^2}$\n",
    "- L1 norm is defined as $||x||_1 = \\sum_{i=1}^d |x_i|$\n",
    "- In Python, we use np.linalg.norm() to call L2 norm"
   ]
  },
  {
   "cell_type": "code",
   "execution_count": 611,
   "metadata": {},
   "outputs": [
    {
     "name": "stdout",
     "output_type": "stream",
     "text": [
      "L2 norm-squared 14.0\n",
      "L2 norm 3.7416573867739413\n",
      "L1 norm 6.0\n"
     ]
    }
   ],
   "source": [
    "x=[1,2,3]\n",
    "print('L2 norm-squared',npl.norm(x)**2)\n",
    "print('L2 norm',npl.norm(x,2))\n",
    "print('L1 norm',npl.norm(x,1))"
   ]
  },
  {
   "cell_type": "markdown",
   "metadata": {},
   "source": [
    "## Linear regression with synthetic dataset"
   ]
  },
  {
   "cell_type": "markdown",
   "metadata": {},
   "source": [
    "### (a) Under-determined linear regression "
   ]
  },
  {
   "cell_type": "code",
   "execution_count": 612,
   "metadata": {},
   "outputs": [
    {
     "data": {
      "text/plain": [
       "<matplotlib.image.AxesImage at 0x7fd95938d7f0>"
      ]
     },
     "execution_count": 612,
     "metadata": {},
     "output_type": "execute_result"
    },
    {
     "data": {
      "image/png": "[encoded data removed]",
      "text/plain": [
       "<Figure size 432x288 with 1 Axes>"
      ]
     },
     "metadata": {
      "needs_background": "light"
     },
     "output_type": "display_data"
    }
   ],
   "source": [
    "n=10  # Number of datapoints/equations\n",
    "d=20  # Number of unknowns/parameters\n",
    "\n",
    "X=np.random.randn(n,d)\n",
    "y=np.random.randn(n)\n",
    "plt.imshow(X)"
   ]
  },
  {
   "cell_type": "markdown",
   "metadata": {},
   "source": [
    "#### Let us solve linear regression i.e. minimize least-squares loss $||y-X\\beta||_2^2$\n",
    "Solution: Pseudo-inverse $X^{\\dagger} y=X^T(XX^T)^{-1}y$"
   ]
  },
  {
   "cell_type": "code",
   "execution_count": 613,
   "metadata": {},
   "outputs": [
    {
     "name": "stdout",
     "output_type": "stream",
     "text": [
      "LS loss: 4.902926390826577e-15\n"
     ]
    }
   ],
   "source": [
    "Xpinv = np.linalg.pinv(X)\n",
    "beta = Xpinv.dot(y)\n",
    "\n",
    "# Check the least-squares loss: L2 norm of error\n",
    "print('LS loss:', npl.norm(y-X.dot(beta)))"
   ]
  },
  {
   "cell_type": "markdown",
   "metadata": {},
   "source": [
    "### Over-determined linear regression"
   ]
  },
  {
   "cell_type": "code",
   "execution_count": 614,
   "metadata": {},
   "outputs": [
    {
     "data": {
      "text/plain": [
       "<matplotlib.image.AxesImage at 0x7fd959594f98>"
      ]
     },
     "execution_count": 614,
     "metadata": {},
     "output_type": "execute_result"
    },
    {
     "data": {
      "image/png": "[encoded data removed]",
      "text/plain": [
       "<Figure size 432x288 with 1 Axes>"
      ]
     },
     "metadata": {
      "needs_background": "light"
     },
     "output_type": "display_data"
    }
   ],
   "source": [
    "n=30  # Number of datapoints\n",
    "d=20  # Number of unknowns\n",
    "\n",
    "X=np.random.randn(n,d)\n",
    "y=np.random.randn(n)\n",
    "plt.imshow(X)"
   ]
  },
  {
   "cell_type": "code",
   "execution_count": 615,
   "metadata": {},
   "outputs": [
    {
     "name": "stdout",
     "output_type": "stream",
     "text": [
      "LS loss: 6.723748194399861 26.663617757872107\n"
     ]
    }
   ],
   "source": [
    "Xpinv = np.linalg.pinv(X)\n",
    "beta = Xpinv.dot(y)\n",
    "# Check the least-squares loss: L2 norm of error\n",
    "print('LS loss:', npl.norm(y-X.dot(beta))**2,npl.norm(y)**2)"
   ]
  },
  {
   "cell_type": "markdown",
   "metadata": {},
   "source": [
    "### How do we know above is optimal LS solution?\n",
    "- Check the derivative (i.e. gradient) and make sure it is zero!"
   ]
  },
  {
   "cell_type": "code",
   "execution_count": 616,
   "metadata": {},
   "outputs": [
    {
     "name": "stdout",
     "output_type": "stream",
     "text": [
      "Size of the gradient: 8.918069880206753e-14\n"
     ]
    }
   ],
   "source": [
    "gradient = 2*X.T.dot(X.dot(beta)-y)\n",
    "print('Size of the gradient:',npl.norm(gradient))"
   ]
  },
  {
   "cell_type": "markdown",
   "metadata": {},
   "source": [
    "## MNIST digit recognition"
   ]
  },
  {
   "cell_type": "markdown",
   "metadata": {},
   "source": [
    "### Load MNIST data"
   ]
  },
  {
   "cell_type": "code",
   "execution_count": 617,
   "metadata": {},
   "outputs": [],
   "source": [
    "import torchvision\n",
    "mnist_torch = torchvision.datasets.MNIST('./',download=True)\n",
    "TOT=len(mnist_torch)"
   ]
  },
  {
   "cell_type": "code",
   "execution_count": 618,
   "metadata": {},
   "outputs": [
    {
     "data": {
      "text/plain": [
       "60000"
      ]
     },
     "execution_count": 618,
     "metadata": {},
     "output_type": "execute_result"
    }
   ],
   "source": [
    "TOT"
   ]
  },
  {
   "cell_type": "code",
   "execution_count": 619,
   "metadata": {},
   "outputs": [
    {
     "name": "stdout",
     "output_type": "stream",
     "text": [
      "Label: 3\n"
     ]
    },
    {
     "data": {
      "image/png": "[encoded data removed]",
      "text/plain": [
       "<PIL.Image.Image image mode=L size=28x28 at 0x7FD9595FBD68>"
      ]
     },
     "execution_count": 619,
     "metadata": {},
     "output_type": "execute_result"
    }
   ],
   "source": [
    "ix=500\n",
    "print('Label:',mnist_torch[ix][1])\n",
    "mnist_torch[ix][0]"
   ]
  },
  {
   "cell_type": "markdown",
   "metadata": {},
   "source": [
    "### Goal: Build a model that distinguishes [0,4] vs [5,9] "
   ]
  },
  {
   "cell_type": "code",
   "execution_count": 620,
   "metadata": {},
   "outputs": [
    {
     "name": "stdout",
     "output_type": "stream",
     "text": [
      "1.0 5\n",
      "0.0 0\n",
      "0.0 4\n",
      "0.0 1\n",
      "1.0 9\n",
      "0.0 2\n",
      "0.0 1\n",
      "0.0 3\n",
      "0.0 1\n",
      "0.0 4\n"
     ]
    },
    {
     "data": {
      "text/plain": [
       "array([1., 0., 0., ..., 1., 1., 1.])"
      ]
     },
     "execution_count": 620,
     "metadata": {},
     "output_type": "execute_result"
    }
   ],
   "source": [
    "mnist_labels = np.zeros(TOT)\n",
    "for i in range(TOT):\n",
    "    mnist_labels[i]=mnist_torch[i][1]>4\n",
    "    if i<10:\n",
    "        print(mnist_labels[i],mnist_torch[i][1])\n",
    "mnist_labels"
   ]
  },
  {
   "cell_type": "code",
   "execution_count": 659,
   "metadata": {},
   "outputs": [],
   "source": [
    "# Train: First N=15 examples out of 60k total\n",
    "N=15\n",
    "X_mnist=np.zeros((N,28,28))\n",
    "y_mnist=np.zeros((N))\n",
    "for i in range(N):\n",
    "    X_mnist[i]=mnist_torch[i][0]\n",
    "    y_mnist[i]=mnist_labels[i]"
   ]
  },
  {
   "cell_type": "code",
   "execution_count": 660,
   "metadata": {},
   "outputs": [
    {
     "data": {
      "text/plain": [
       "<Figure size 216x216 with 0 Axes>"
      ]
     },
     "metadata": {},
     "output_type": "display_data"
    },
    {
     "data": {
      "image/png": "[encoded data removed]",
      "text/plain": [
       "<Figure size 432x288 with 9 Axes>"
      ]
     },
     "metadata": {
      "needs_background": "light"
     },
     "output_type": "display_data"
    }
   ],
   "source": [
    "K=3\n",
    "plt.figure(figsize=(K,K))\n",
    "fig,ax=plt.subplots(K,K)\n",
    "for i in range(K):\n",
    "    for j in range(K):\n",
    "        ax[i,j].imshow(X_mnist[K*i+j])"
   ]
  },
  {
   "cell_type": "code",
   "execution_count": 661,
   "metadata": {},
   "outputs": [
    {
     "data": {
      "text/plain": [
       "(15, 28, 28)"
      ]
     },
     "execution_count": 661,
     "metadata": {},
     "output_type": "execute_result"
    }
   ],
   "source": [
    "X_mnist.shape # N=15 << d=784"
   ]
  },
  {
   "cell_type": "markdown",
   "metadata": {},
   "source": [
    "### Linear regression for MNIST\n",
    "- Let us put inputs in the right format"
   ]
  },
  {
   "cell_type": "code",
   "execution_count": 662,
   "metadata": {},
   "outputs": [],
   "source": [
    "X_mnist = X_mnist.reshape(N,28*28)\n",
    "\n",
    "# Solve linear regression\n",
    "beta = npl.pinv(X_mnist).dot(y_mnist)"
   ]
  },
  {
   "cell_type": "code",
   "execution_count": 663,
   "metadata": {},
   "outputs": [
    {
     "name": "stdout",
     "output_type": "stream",
     "text": [
      "Training accuracy: 1.0\n",
      "[ True  True  True  True  True  True  True  True  True  True  True  True\n",
      "  True  True  True]\n"
     ]
    }
   ],
   "source": [
    "# Verify least-squares loss is small\n",
    "y_predict = X_mnist.dot(beta)\n",
    "#print('Training loss:', npl.norm(y_mnist-y_predict)**2/N)\n",
    "\n",
    "# Verify this model can predict digits!\n",
    "# y_predict > 0.5 =>  assign to 1\n",
    "# y_predict <= 0.5 => assign to 0\n",
    "y_predict = y_predict>0.5\n",
    "\n",
    "print('Training accuracy:',np.mean(y_predict==y_mnist))\n",
    "print(y_predict==y_mnist)"
   ]
  },
  {
   "cell_type": "markdown",
   "metadata": {},
   "source": [
    "#### We achieved 100% digit recognition accuracy with only 20 examples\n",
    "- This is because we do the evaluation on the examples we trained with\n",
    "- Proper evaluation should be done on examples never seen before!"
   ]
  },
  {
   "cell_type": "code",
   "execution_count": 664,
   "metadata": {},
   "outputs": [],
   "source": [
    "# TEST: Last 10k examples out of 60k total\n",
    "T=10000\n",
    "X_test=np.zeros((T,28,28))\n",
    "y_test=np.zeros((T))\n",
    "for i in range(T):\n",
    "    X_test[i]=mnist_torch[i+TOT-T][0]\n",
    "    y_test[i]=mnist_labels[i+TOT-T]\n",
    "X_test=X_test.reshape(T,28**2)"
   ]
  },
  {
   "cell_type": "code",
   "execution_count": 665,
   "metadata": {},
   "outputs": [
    {
     "name": "stdout",
     "output_type": "stream",
     "text": [
      "0.5939\n"
     ]
    }
   ],
   "source": [
    "y_predict = X_test.dot(beta)>0.5\n",
    "ACC[N]=np.mean(y_predict==y_test)\n",
    "print(np.mean(y_predict==y_test))"
   ]
  },
  {
   "cell_type": "code",
   "execution_count": 666,
   "metadata": {},
   "outputs": [
    {
     "data": {
      "text/plain": [
       "array([ True, False,  True, ..., False, False, False])"
      ]
     },
     "execution_count": 666,
     "metadata": {},
     "output_type": "execute_result"
    }
   ],
   "source": [
    "y_predict==y_test"
   ]
  },
  {
   "cell_type": "markdown",
   "metadata": {},
   "source": [
    "### Plotting all test accuracies"
   ]
  },
  {
   "cell_type": "code",
   "execution_count": 669,
   "metadata": {},
   "outputs": [
    {
     "data": {
      "image/png": "[encoded data removed]",
      "text/plain": [
       "<Figure size 432x288 with 1 Axes>"
      ]
     },
     "metadata": {
      "needs_background": "light"
     },
     "output_type": "display_data"
    }
   ],
   "source": [
    "keys=list(ACC.keys())\n",
    "vals=list(ACC.values())\n",
    "vals=[vals[int(ix)] for ix in np.argsort(keys)]\n",
    "keys=np.sort(keys)\n",
    "plt.semilogx(keys,vals,'s--')\n",
    "plt.ylabel('Test Accuracy')\n",
    "plt.xlabel('Dataset size N')\n",
    "plt.grid(True)"
   ]
  },
  {
   "cell_type": "code",
   "execution_count": 668,
   "metadata": {},
   "outputs": [
    {
     "data": {
      "text/plain": [
       "dict_keys([200, 1000, 5000, 20000, 15])"
      ]
     },
     "execution_count": 668,
     "metadata": {},
     "output_type": "execute_result"
    }
   ],
   "source": [
    "ACC.keys()"
   ]
  }
 ],
 "metadata": {
  "kernelspec": {
   "display_name": "Python 3",
   "language": "python",
   "name": "python3"
  },
  "language_info": {
   "codemirror_mode": {
    "name": "ipython",
    "version": 3
   },
   "file_extension": ".py",
   "mimetype": "text/x-python",
   "name": "python",
   "nbconvert_exporter": "python",
   "pygments_lexer": "ipython3",
   "version": "3.7.2"
  }
 },
 "nbformat": 4,
 "nbformat_minor": 2
}
