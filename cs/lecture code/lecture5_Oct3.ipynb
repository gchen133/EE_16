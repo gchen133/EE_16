{
 "cells": [
  {
   "cell_type": "code",
   "execution_count": null,
   "metadata": {},
   "outputs": [],
   "source": [
    "def update(x):\n",
    "    print('init local',id(x))\n",
    "    if type(x)==int:\n",
    "        x+=1\n",
    "    if type(x)==list:\n",
    "        x.append(2)\n",
    "    print('local',id(x))\n",
    "    return x\n",
    "x=[1]\n",
    "print('global',id(x))\n",
    "x=update(x)\n",
    "print('global',x,id(x))\n",
    "    "
   ]
  },
  {
   "cell_type": "code",
   "execution_count": 2,
   "metadata": {},
   "outputs": [
    {
     "name": "stdout",
     "output_type": "stream",
     "text": [
      "a\n",
      "[]\n",
      "['a', True]\n",
      "['a', True]\n",
      "True\n",
      "[True, 'a', 1]\n",
      "[True, 1]\n"
     ]
    }
   ],
   "source": [
    "a=[1,'a',True]\n",
    "print(a[1])\n",
    "print(a[1:1])\n",
    "print(a[1:3])\n",
    "print(a[1:4])\n",
    "print(a[-1])\n",
    "print(a[-1::-1])\n",
    "print(a[-1::-2])"
   ]
  },
  {
   "cell_type": "code",
   "execution_count": 3,
   "metadata": {},
   "outputs": [
    {
     "name": "stdout",
     "output_type": "stream",
     "text": [
      "[1, '2', 3.0, [4]]\n",
      "[1, '2', 3.0, [4]]\n"
     ]
    }
   ],
   "source": [
    "L = [1]\n",
    "L.append('2')\n",
    "L.append(3.0)\n",
    "L.append([4])\n",
    "print(L)\n",
    "\n",
    "L = [1]\n",
    "L+=['2']\n",
    "L+=[3.0]\n",
    "L+=[[4]]\n",
    "print(L)"
   ]
  },
  {
   "cell_type": "code",
   "execution_count": 4,
   "metadata": {},
   "outputs": [
    {
     "name": "stdout",
     "output_type": "stream",
     "text": [
      "['a', 'b', 'c'] 140727211143104\n",
      "['a', 'b', 'c', [1, '2', 3.0, [4]]] 140727211143104\n",
      "L is pointed by L2[-1]: True\n",
      "['a', 'b', 'c', [1, '2', 3.0, [4]], 1, '2', 3.0, [4]] 140727211143104\n",
      "L is pointed by L2[-1]: False\n"
     ]
    }
   ],
   "source": [
    "L2 = ['a','b','c']\n",
    "print(L2,id(L2))\n",
    "L2.append(L)\n",
    "print(L2,id(L2))\n",
    "print('L is pointed by L2[-1]:',id(L)==id(L2[-1]))\n",
    "L2+=L\n",
    "print(L2,id(L2))\n",
    "print('L is pointed by L2[-1]:',id(L)==id(L2[-1]))"
   ]
  },
  {
   "cell_type": "code",
   "execution_count": 5,
   "metadata": {},
   "outputs": [
    {
     "name": "stdout",
     "output_type": "stream",
     "text": [
      "True\n",
      "[1, 2, 3, [...]]\n",
      "False\n",
      "[1, 2, 3, 1, 2, 3]\n"
     ]
    }
   ],
   "source": [
    "# A list pointing to itself\n",
    "L = [1, 2, 3]\n",
    "L.append(L)\n",
    "print(id(L)==id(L[-1]))\n",
    "print(L)\n",
    "\n",
    "# A list with its copy appended\n",
    "L2 = [1, 2, 3]\n",
    "L2+=L2\n",
    "print(id(L2)==id(L2[-1]))\n",
    "print(L2)"
   ]
  },
  {
   "cell_type": "code",
   "execution_count": 6,
   "metadata": {},
   "outputs": [
    {
     "data": {
      "text/plain": [
       "5"
      ]
     },
     "execution_count": 6,
     "metadata": {},
     "output_type": "execute_result"
    }
   ],
   "source": [
    "range(10)[5]"
   ]
  },
  {
   "cell_type": "code",
   "execution_count": 8,
   "metadata": {},
   "outputs": [
    {
     "data": {
      "text/plain": [
       "False"
      ]
     },
     "execution_count": 8,
     "metadata": {},
     "output_type": "execute_result"
    }
   ],
   "source": [
    "a=5432532\n",
    "b=5432532\n",
    "a is b"
   ]
  }
 ],
 "metadata": {
  "kernelspec": {
   "display_name": "Python 3.7.2 64-bit",
   "language": "python",
   "name": "python3"
  },
  "language_info": {
   "codemirror_mode": {
    "name": "ipython",
    "version": 3
   },
   "file_extension": ".py",
   "mimetype": "text/x-python",
   "name": "python",
   "nbconvert_exporter": "python",
   "pygments_lexer": "ipython3",
   "version": "3.7.2"
  },
  "orig_nbformat": 4,
  "vscode": {
   "interpreter": {
    "hash": "aee8b7b246df8f9039afb4144a1f6fd8d2ca17a180786b69acc140d282b71a49"
   }
  }
 },
 "nbformat": 4,
 "nbformat_minor": 2
}
