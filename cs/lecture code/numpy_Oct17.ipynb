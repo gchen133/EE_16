{
 "cells": [
  {
   "cell_type": "code",
   "execution_count": 148,
   "metadata": {},
   "outputs": [],
   "source": [
    "import numpy as np\n",
    "import matplotlib.pyplot as plt\n",
    "import time"
   ]
  },
  {
   "cell_type": "markdown",
   "metadata": {},
   "source": [
    "## Topic 1: Declaring an array, dtype, matrix"
   ]
  },
  {
   "cell_type": "code",
   "execution_count": 138,
   "metadata": {},
   "outputs": [
    {
     "name": "stdout",
     "output_type": "stream",
     "text": [
      "[7 8 8 7 6 7 7 8 7 6 6 5]\n",
      "[[7 8 8 7]\n",
      " [6 7 7 8]\n",
      " [7 6 6 5]]\n"
     ]
    }
   ],
   "source": [
    "L=[1,2,3]\n",
    "a=np.array(L)\n",
    "\n",
    "L=[[1,2],[2,3],[4,5]]\n",
    "a=np.array(L)\n",
    "\n",
    "L=[['1','2'],['2','3']]\n",
    "a=np.array(L)\n",
    "\n",
    "a=np.ones((3,3))\n",
    "a=np.zeros((3,3))\n",
    "#print(a)\n",
    "\n",
    "a=np.arange(4,10,0.1)\n",
    "a=np.flip(np.arange(99,39,-1)*0.1)\n",
    "\n",
    "a=np.linspace(4,10,21)\n",
    "\n",
    "a=np.eye(5)\n",
    "\n",
    "#np.random.seed(10)\n",
    "a=np.random.randn(10)\n",
    "a=np.random.rand(10)\n",
    "\n",
    "a=np.random.randint(5,10,12)\n",
    "print(a)\n",
    "\n",
    "print(a.reshape((3,4)))\n",
    "#_=plt.hist(a,100)"
   ]
  },
  {
   "cell_type": "markdown",
   "metadata": {},
   "source": [
    "## Topic 1': Operating on array elements"
   ]
  },
  {
   "cell_type": "code",
   "execution_count": 13,
   "metadata": {},
   "outputs": [
    {
     "data": {
      "text/plain": [
       "array([[256,   1],\n",
       "       [  4,  27]])"
      ]
     },
     "execution_count": 13,
     "metadata": {},
     "output_type": "execute_result"
    }
   ],
   "source": [
    "a=np.array([1,2,3,4])\n",
    "b=np.array([1,2,3,4])\n",
    "a=np.array([[4,1],[2,3]])\n",
    "b=np.array([[4,1],[2,3]])\n",
    "\n",
    "a**b"
   ]
  },
  {
   "cell_type": "markdown",
   "metadata": {},
   "source": [
    "## Topic 2: Slicing a numpy array"
   ]
  },
  {
   "cell_type": "code",
   "execution_count": 169,
   "metadata": {},
   "outputs": [
    {
     "data": {
      "text/plain": [
       "array([ 6,  8, 10, 12, 14, 16, 18,  0,  2,  4])"
      ]
     },
     "execution_count": 169,
     "metadata": {},
     "output_type": "execute_result"
    }
   ],
   "source": [
    "a=np.arange(10)*2\n",
    "#a[5:8]=a[6:9]**2\n",
    "tmp=a[:5].copy()\n",
    "a[:5]=a[5:]\n",
    "a[5:]=tmp\n",
    "\n",
    "a=np.arange(10)*2\n",
    "\n",
    "np.concatenate([a[3:],a[:3]])"
   ]
  },
  {
   "cell_type": "markdown",
   "metadata": {},
   "source": [
    "## Topic 3: Array properties: length, sum, mean, std, etc"
   ]
  },
  {
   "cell_type": "code",
   "execution_count": 67,
   "metadata": {},
   "outputs": [
    {
     "name": "stdout",
     "output_type": "stream",
     "text": [
      "[ 0  1  2  3  4  5  6  7  8  9 10]\n",
      "[ 0.  0.  0.  0.  0.  5. 10. 10. 10. 10. 10.]\n",
      "[5. 5. 5. 5. 5. 5. 5. 5. 5. 5. 5.]\n"
     ]
    }
   ],
   "source": [
    "a=np.arange(11)\n",
    "b=np.concatenate([np.zeros(5), [5],np.ones(5)*10])\n",
    "c=np.ones(11)*5\n",
    "print(a)\n",
    "print(b)\n",
    "print(c)"
   ]
  },
  {
   "cell_type": "code",
   "execution_count": 68,
   "metadata": {},
   "outputs": [
    {
     "name": "stdout",
     "output_type": "stream",
     "text": [
      "5.0 5.0 5.0\n",
      "3.1622776601683795 4.767312946227961 0.0\n"
     ]
    }
   ],
   "source": [
    "print(np.mean(a),np.mean(b),np.mean(c))\n",
    "print(np.std(a),np.std(b),np.std(c))\n",
    "#np.std(a)**2, np.var(a)"
   ]
  },
  {
   "cell_type": "code",
   "execution_count": 127,
   "metadata": {},
   "outputs": [
    {
     "name": "stdout",
     "output_type": "stream",
     "text": [
      "[[[  0   1   2   3   4]\n",
      "  [  5   6   7   8   9]\n",
      "  [ 10  11  12  13  14]\n",
      "  [ 15  16  17  18  19]\n",
      "  [ 20  21  22  23  24]]\n",
      "\n",
      " [[ 25  26  27  28  29]\n",
      "  [ 30  31  32  33  34]\n",
      "  [ 35  36  37  38  39]\n",
      "  [ 40  41  42  43  44]\n",
      "  [ 45  46  47  48  49]]\n",
      "\n",
      " [[ 50  51  52  53  54]\n",
      "  [ 55  56  57  58  59]\n",
      "  [ 60  61  62  63  64]\n",
      "  [ 65  66  67  68  69]\n",
      "  [ 70  71  72  73  74]]\n",
      "\n",
      " [[ 75  76  77  78  79]\n",
      "  [ 80  81  82  83  84]\n",
      "  [ 85  86  87  88  89]\n",
      "  [ 90  91  92  93  94]\n",
      "  [ 95  96  97  98  99]]\n",
      "\n",
      " [[100 101 102 103 104]\n",
      "  [105 106 107 108 109]\n",
      "  [110 111 112 113 114]\n",
      "  [115 116 117 118 119]\n",
      "  [120 121 122 123 124]]]\n"
     ]
    }
   ],
   "source": [
    "a=np.arange(125).reshape([5,5,5])\n",
    "print(a)\n"
   ]
  },
  {
   "cell_type": "markdown",
   "metadata": {},
   "source": [
    "## Topic 4: Properties of array slices"
   ]
  },
  {
   "cell_type": "code",
   "execution_count": 131,
   "metadata": {},
   "outputs": [
    {
     "name": "stdout",
     "output_type": "stream",
     "text": [
      "[[75 76 77]\n",
      " [80 81 82]\n",
      " [85 86 87]]\n"
     ]
    }
   ],
   "source": [
    "print(a[3,:3,:3])"
   ]
  },
  {
   "cell_type": "code",
   "execution_count": null,
   "metadata": {},
   "outputs": [],
   "source": []
  },
  {
   "cell_type": "markdown",
   "metadata": {},
   "source": [
    "## Topic 6: Basic linear algebra: Matrix-vector product"
   ]
  },
  {
   "cell_type": "code",
   "execution_count": 158,
   "metadata": {},
   "outputs": [
    {
     "name": "stdout",
     "output_type": "stream",
     "text": [
      "626.487434875881\n"
     ]
    }
   ],
   "source": [
    "N=1000\n",
    "M=N\n",
    "\n",
    "A=np.arange(M*N).reshape([M,N])\n",
    "b=np.arange(N)\n",
    "\n",
    "# Goal: c=Ab\n",
    "st=time.time()\n",
    "A.dot(b)\n",
    "#print()\n",
    "nptime=time.time()-st\n",
    "\n",
    "st=time.time()\n",
    "c=np.zeros(M)\n",
    "for i in range(M):\n",
    "    for j in range(N):\n",
    "        c[i]+=A[i,j]*b[j]\n",
    "print((time.time()-st)/nptime)"
   ]
  },
  {
   "cell_type": "code",
   "execution_count": 145,
   "metadata": {},
   "outputs": [
    {
     "name": "stdout",
     "output_type": "stream",
     "text": [
      "[[ 0  1  2  3  4]\n",
      " [ 5  6  7  8  9]\n",
      " [10 11 12 13 14]\n",
      " [15 16 17 18 19]]\n",
      "[0 1 2 3 4]\n"
     ]
    }
   ],
   "source": [
    "print(A)\n",
    "print(b)"
   ]
  }
 ],
 "metadata": {
  "kernelspec": {
   "display_name": "Python 3",
   "language": "python",
   "name": "python3"
  },
  "language_info": {
   "codemirror_mode": {
    "name": "ipython",
    "version": 3
   },
   "file_extension": ".py",
   "mimetype": "text/x-python",
   "name": "python",
   "nbconvert_exporter": "python",
   "pygments_lexer": "ipython3",
   "version": "3.7.2"
  }
 },
 "nbformat": 4,
 "nbformat_minor": 2
}
