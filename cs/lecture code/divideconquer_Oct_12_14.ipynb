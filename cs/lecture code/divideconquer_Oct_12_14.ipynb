{
 "cells": [
  {
   "cell_type": "markdown",
   "metadata": {},
   "source": [
    "# Mergesort"
   ]
  },
  {
   "cell_type": "code",
   "execution_count": 75,
   "metadata": {
    "colab": {
     "base_uri": "https://localhost:8080/"
    },
    "id": "O3QBDp7Gbwbu",
    "outputId": "64564cb2-b31d-45f9-c81b-315892f894ba"
   },
   "outputs": [
    {
     "name": "stdout",
     "output_type": "stream",
     "text": [
      "[1, 2, 3, 3, 4, 7, 8]\n"
     ]
    }
   ],
   "source": [
    "import numpy as np\n",
    "import time\n",
    "def mergesrt(L):\n",
    "  if len(L)<=1: return L\n",
    "  half=int(len(L)/2)\n",
    "  L[:half]=mergesrt(L[:half])\n",
    "  L[half:]=mergesrt(L[half:])\n",
    "  Lcp=L.copy()\n",
    "  ix1=0; ix2=0\n",
    "  for i in range(len(L)):\n",
    "    if ix1<half and (ix2==len(L)-half or Lcp[ix1]<=Lcp[ix2+half]):\n",
    "      L[i]=Lcp[ix1]\n",
    "      ix1+=1\n",
    "    else:\n",
    "      L[i]=Lcp[ix2+half]\n",
    "      ix2+=1\n",
    "  return L\n",
    "  \n",
    "L=[4,3,7,8,2,3,1]\n",
    "print(mergesrt(L))"
   ]
  },
  {
   "cell_type": "code",
   "execution_count": 82,
   "metadata": {},
   "outputs": [
    {
     "name": "stdout",
     "output_type": "stream",
     "text": [
      "8.145895957946777\n"
     ]
    }
   ],
   "source": [
    "N=1000000\n",
    "\n",
    "L=list(np.argsort(np.random.rand(N)))\n",
    "#print(L)\n",
    "st=time.time()\n",
    "L=mergesrt(L)\n",
    "print(time.time()-st)"
   ]
  },
  {
   "cell_type": "markdown",
   "metadata": {},
   "source": [
    "# Quicksort"
   ]
  },
  {
   "cell_type": "code",
   "execution_count": 206,
   "metadata": {},
   "outputs": [],
   "source": [
    "def quicksort(L):\n",
    "    if len(L)<=1: return L\n",
    "    pvt=L[0]   # Picks first element is pivot\n",
    "    Llarge=[]\n",
    "    Lsmall=[]\n",
    "    Lequal=[]\n",
    "    for e in L:\n",
    "        if e>pvt:\n",
    "            Llarge.append(e)\n",
    "        elif e<pvt:\n",
    "            Lsmall.append(e)\n",
    "        else:\n",
    "            Lequal.append(e)\n",
    "    Lsmall=quicksort(Lsmall)\n",
    "    Llarge=quicksort(Llarge)\n",
    "    L=Lsmall+Lequal+Llarge\n",
    "    return L"
   ]
  },
  {
   "cell_type": "markdown",
   "metadata": {},
   "source": [
    "# Fixed pivot is a BAD idea"
   ]
  },
  {
   "cell_type": "code",
   "execution_count": 209,
   "metadata": {},
   "outputs": [
    {
     "name": "stdout",
     "output_type": "stream",
     "text": [
      "0.0014047622680664062\n"
     ]
    }
   ],
   "source": [
    "random_input=False\n",
    "\n",
    "N=500\n",
    "st=time.time()\n",
    "\n",
    "\n",
    "if random_input: # Option 1: List with random elements\n",
    "    L=list(np.random.rand(N))\n",
    "else: # Option 2: Already sorted list!!!\n",
    "    L=list(range(N))\n",
    "\n",
    "L=quicksort(L)\n",
    "print(time.time()-st)"
   ]
  },
  {
   "cell_type": "code",
   "execution_count": 98,
   "metadata": {},
   "outputs": [
    {
     "name": "stdout",
     "output_type": "stream",
     "text": [
      "[0, 1, 2, 3, 4, 5, 6, 7, 8, 9, 10, 11, 12, 13, 14, 15, 16, 17, 18, 19, 20, 21, 22, 23, 24, 25, 26, 27, 28, 29, 30, 31, 32, 33, 34, 35, 36, 37, 38, 39, 40, 41, 42, 43, 44, 45, 46, 47, 48, 49, 50, 51, 52, 53, 54, 55, 56, 57, 58, 59, 60, 61, 62, 63, 64, 65, 66, 67, 68, 69, 70, 71, 72, 73, 74, 75, 76, 77, 78, 79, 80, 81, 82, 83, 84, 85, 86, 87, 88, 89, 90, 91, 92, 93, 94, 95, 96, 97, 98, 99]\n"
     ]
    }
   ],
   "source": [
    "print(L)"
   ]
  },
  {
   "cell_type": "markdown",
   "metadata": {},
   "source": [
    "# Random library"
   ]
  },
  {
   "cell_type": "code",
   "execution_count": 50,
   "metadata": {},
   "outputs": [
    {
     "data": {
      "text/plain": [
       "array([4, 0, 0, 1, 1, 1, 4, 1, 1, 3])"
      ]
     },
     "execution_count": 50,
     "metadata": {},
     "output_type": "execute_result"
    }
   ],
   "source": [
    "np.random.randint(5,size=10)"
   ]
  },
  {
   "cell_type": "code",
   "execution_count": 57,
   "metadata": {},
   "outputs": [
    {
     "name": "stdout",
     "output_type": "stream",
     "text": [
      "0.06655311584472656\n"
     ]
    }
   ],
   "source": [
    "def quicksort(L):\n",
    "    if len(L)<=1: return L\n",
    "    pvt=L[np.random.randint(len(L))]   # Picks random element as pivot\n",
    "    Llarge,Lsmall,Lequal=[],[],[]\n",
    "    for e in L:\n",
    "        if e>pvt:\n",
    "            Llarge.append(e)\n",
    "        elif e<pvt:\n",
    "            Lsmall.append(e)\n",
    "        else:\n",
    "            Lequal.append(e)\n",
    "\n",
    "    # Call recursion on left and right\n",
    "    Lsmall=quicksort(Lsmall)\n",
    "    Llarge=quicksort(Llarge)\n",
    "    L=Lsmall+Lequal+Llarge\n",
    "    return L\n",
    "\n",
    "\n",
    "\n",
    "random_input=True\n",
    "# Let us try this one more time\n",
    "N=10000\n",
    "st=time.time()\n",
    "if random_input: # Option 1: List with random elements\n",
    "    L=list(np.random.rand(N))\n",
    "else: # Option 2: Already sorted list!!!\n",
    "    L=list(range(N))\n",
    "\n",
    "L=quicksort(L)\n",
    "print(time.time()-st)"
   ]
  },
  {
   "cell_type": "markdown",
   "metadata": {},
   "source": [
    "# Quickselect"
   ]
  },
  {
   "cell_type": "code",
   "execution_count": 201,
   "metadata": {},
   "outputs": [],
   "source": [
    "def quickselect(L,k):\n",
    "    if len(L)==1: return L[0]\n",
    "    pvt=L[np.random.randint(len(L))]   \n",
    "    Llarge,Lsmall,Lequal=[],[],[]\n",
    "    for e in L:\n",
    "        if e>pvt:\n",
    "            Llarge.append(e)\n",
    "        elif e<pvt:\n",
    "            Lsmall.append(e)\n",
    "\n",
    "            \n",
    "\n",
    "    # Only calls one recursion unlike quicksort\n",
    "    if k<len(Lsmall):\n",
    "        return quickselect(Lsmall,k)\n",
    "    elif k>=len(L)-len(Llarge):\n",
    "        return quickselect(Llarge,k-len(L)+len(Llarge))\n",
    "    else:\n",
    "        return pvt\n",
    "\n"
   ]
  },
  {
   "cell_type": "code",
   "execution_count": 204,
   "metadata": {},
   "outputs": [
    {
     "name": "stdout",
     "output_type": "stream",
     "text": [
      "0.006011009216308594\n",
      "7\n"
     ]
    }
   ],
   "source": [
    "random_input=True\n",
    "# Let us try this one more time\n",
    "N=10000\n",
    "k=7\n",
    "st=time.time()\n",
    "if random_input: # Option 1: List with random elements\n",
    "    L=list(np.argsort(np.random.rand(N)))\n",
    "else: # Option 2: Already sorted list!!!\n",
    "    L=list(range(N))\n",
    "\n",
    "val=quickselect(L,k)\n",
    "print(time.time()-st)\n",
    "print(val)"
   ]
  },
  {
   "cell_type": "code",
   "execution_count": 200,
   "metadata": {},
   "outputs": [
    {
     "data": {
      "text/plain": [
       "([], [], [])"
      ]
     },
     "execution_count": 200,
     "metadata": {},
     "output_type": "execute_result"
    }
   ],
   "source": [
    "a,b,c=[],[],[]\n",
    "a,b,c"
   ]
  },
  {
   "cell_type": "markdown",
   "metadata": {},
   "source": [
    "# Longest increasing subsequence"
   ]
  },
  {
   "cell_type": "code",
   "execution_count": 69,
   "metadata": {},
   "outputs": [],
   "source": [
    "def LIS(arr):\n",
    "    if len(arr)<=1:\n",
    "        return len(arr)\n",
    "    mid=int(len(arr)/2)\n",
    "    left_LIS=LIS(arr[:mid])\n",
    "    right_LIS=LIS(arr[mid:])\n",
    "    mid_LIS=middle_LIS(arr,mid)\n",
    "    return max(left_LIS,right_LIS,mid_LIS)\n",
    "\n",
    "def middle_LIS(arr,mid):\n",
    "    st=mid; en=mid\n",
    "    while st>=1 and arr[st-1]<arr[st]:\n",
    "        st-=1\n",
    "    while en<len(arr)-1 and arr[en]<arr[en+1]:\n",
    "        en+=1\n",
    "    return en-st+1"
   ]
  },
  {
   "cell_type": "code",
   "execution_count": 72,
   "metadata": {},
   "outputs": [
    {
     "name": "stdout",
     "output_type": "stream",
     "text": [
      "4 \n",
      " [4, 6, 5, 2, 0, 1, 7, 9, 3, 8]\n"
     ]
    }
   ],
   "source": [
    "N=10\n",
    "L=list(np.argsort(np.random.rand(N)))\n",
    "print(LIS(L),'\\n',L)"
   ]
  }
 ],
 "metadata": {
  "colab": {
   "collapsed_sections": [],
   "provenance": []
  },
  "kernelspec": {
   "display_name": "Python 3",
   "language": "python",
   "name": "python3"
  },
  "language_info": {
   "codemirror_mode": {
    "name": "ipython",
    "version": 3
   },
   "file_extension": ".py",
   "mimetype": "text/x-python",
   "name": "python",
   "nbconvert_exporter": "python",
   "pygments_lexer": "ipython3",
   "version": "3.7.2"
  },
  "vscode": {
   "interpreter": {
    "hash": "aee8b7b246df8f9039afb4144a1f6fd8d2ca17a180786b69acc140d282b71a49"
   }
  }
 },
 "nbformat": 4,
 "nbformat_minor": 1
}
