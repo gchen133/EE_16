{
 "cells": [
  {
   "cell_type": "code",
   "execution_count": 29,
   "metadata": {},
   "outputs": [
    {
     "name": "stdout",
     "output_type": "stream",
     "text": [
      "True 0.0003840923309326172 362.0925296108717\n"
     ]
    }
   ],
   "source": [
    "import time\n",
    "import math\n",
    "x=131111\n",
    "st=time.time()\n",
    "is_prime=True\n",
    "i=2\n",
    "while is_prime and i<math.sqrt(x):\n",
    "    if x%i==0:\n",
    "        is_prime=False\n",
    "    i+=1\n",
    "en=time.time()\n",
    "print(is_prime,en-st,math.sqrt(x))"
   ]
  },
  {
   "cell_type": "code",
   "execution_count": 38,
   "metadata": {},
   "outputs": [
    {
     "name": "stdout",
     "output_type": "stream",
     "text": [
      "60\n"
     ]
    }
   ],
   "source": [
    "a=12\n",
    "b=10\n",
    "i=1\n",
    "div=False\n",
    "while not div:\n",
    "    if i%a==0 and i%b==0:\n",
    "        div=True\n",
    "        break\n",
    "    i+=1\n",
    "print(i)"
   ]
  },
  {
   "cell_type": "code",
   "execution_count": null,
   "metadata": {},
   "outputs": [],
   "source": [
    "def print_abc(bruce):\n",
    "    bruce='xyz'\n",
    "    print(bruce)\n",
    "print_abc('abc')\n",
    "print('bruce')"
   ]
  }
 ],
 "metadata": {
  "kernelspec": {
   "display_name": "Python 3.7.3 64-bit",
   "language": "python",
   "name": "python3"
  },
  "language_info": {
   "codemirror_mode": {
    "name": "ipython",
    "version": 3
   },
   "file_extension": ".py",
   "mimetype": "text/x-python",
   "name": "python",
   "nbconvert_exporter": "python",
   "pygments_lexer": "ipython3",
   "version": "3.7.3"
  },
  "orig_nbformat": 4,
  "vscode": {
   "interpreter": {
    "hash": "31f2aee4e71d21fbe5cf8b01ff0e069b9275f58929596ceb00d14d90e3e16cd6"
   }
  }
 },
 "nbformat": 4,
 "nbformat_minor": 2
}
