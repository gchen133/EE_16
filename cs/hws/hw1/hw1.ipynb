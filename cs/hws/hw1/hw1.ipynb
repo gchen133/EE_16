{
 "cells": [
  {
   "cell_type": "code",
   "execution_count": null,
   "metadata": {},
   "outputs": [],
   "source": [
    "# assume that the first number is the maximum \n",
    "# as you iterate through the list if any of the preceding numbers are larger, they replace the previous number as the max\n",
    "\n",
    "def find_max(L):\n",
    "    L = [1, 2, 3, 4, 5]\n",
    "    max = L[0]\n",
    "    num = L[1]\n",
    "    for num in L:\n",
    "        if (num > max):\n",
    "            max = num\n",
    "        num = num + 1\n",
    "    return max\n",
    "    print(max)"
   ]
  },
  {
   "cell_type": "code",
   "execution_count": null,
   "metadata": {},
   "outputs": [],
   "source": [
    "#simple iteration to find even num\n",
    "def find_even(*args):\n",
    "    ret = []\n",
    "    for num in args:\n",
    "        if (num % 2 == 0):\n",
    "            ret.append(num)\n",
    "    return ret"
   ]
  },
  {
   "cell_type": "code",
   "execution_count": null,
   "metadata": {},
   "outputs": [],
   "source": [
    "find_max(L):\n",
    "\n",
    "    print max\n"
   ]
  },
  {
   "cell_type": "code",
   "execution_count": null,
   "metadata": {},
   "outputs": [],
   "source": [
    "input_string = input('please input a string\\n')\n",
    "len(input_string)\n",
    "print(input_string, 'is', len(input_string), 'characters long')\n"
   ]
  },
  {
   "cell_type": "code",
   "execution_count": null,
   "metadata": {},
   "outputs": [],
   "source": [
    "def find_even(*args): \n",
    "    m = []\n",
    "    for num in m:\n",
    "        if num in m:\n",
    "            if num % 2 ==0:\n",
    "                return m "
   ]
  },
  {
   "cell_type": "code",
   "execution_count": null,
   "metadata": {},
   "outputs": [],
   "source": [
    "d = {'jan':1,'feb':2, 'mar':3 }\n",
    "rd = {}\n",
    "d.values()\n",
    "#reverse the dictionary match def to numbers\n",
    "for k in d.keys():\n",
    "    rd[d[k]] = k\n",
    "rd[d['jan']]\n",
    "print(rd)\n"
   ]
  }
 ],
 "metadata": {
  "language_info": {
   "name": "python"
  },
  "orig_nbformat": 4
 },
 "nbformat": 4,
 "nbformat_minor": 2
}
